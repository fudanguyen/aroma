{
 "cells": [
  {
   "cell_type": "code",
   "execution_count": 5,
   "id": "fe6f8dc7-9c08-4e79-82d3-57f534d9b305",
   "metadata": {},
   "outputs": [],
   "source": [
    "import numpy as np\n",
    "import matplotlib.pylab as plt\n",
    "import matplotlib\n",
    "from numpy import genfromtxt\n",
    "from astropy import units as u\n",
    "import pickle\n",
    "from matplotlib import gridspec\n",
    "from matplotlib.patches import Rectangle\n",
    "from matplotlib.collections import PatchCollection\n",
    "from matplotlib.font_manager import FontProperties\n",
    "from numpy.random import rand\n",
    "import pandas as pd\n",
    "from scipy.optimize import curve_fit"
   ]
  },
  {
   "cell_type": "code",
   "execution_count": 6,
   "id": "bab41097-4eef-41a2-a68b-161b3506dcf1",
   "metadata": {},
   "outputs": [
    {
     "name": "stdout",
     "output_type": "stream",
     "text": [
      "def: find_nearest(array, value)\n",
      "def: powerfunc_ten(hpp,amp1,shift1,amp2,shift2,amp3,shift3,amp4,shift4,amp5,shift5,amp6,shift6,amp7,shift7,amp8,shift8,amp9,shift9,amp10,shift10)\n",
      "def: powerfunc_six(hpp,amp1,shift1,amp2,shift2,amp3,shift3,amp4,shift4,amp5,shift5,amp6,shift6)\n",
      "def: powerfunc_four(hpp,amp1,shift1,amp2,shift2,amp3,shift3,amp4,shift4)\n",
      "def: powerfunc(hpp,amp1,shift1,amp2,shift2,amp3,shift3)\n",
      "def: powerfuncsingle(hpp,amp1,shift1)\n"
     ]
    },
    {
     "data": {
      "text/plain": [
       "'/Users/nguyendat/Documents/GitHub/aroma/2025jwst_brittany_data'"
      ]
     },
     "execution_count": 6,
     "metadata": {},
     "output_type": "execute_result"
    }
   ],
   "source": [
    "%matplotlib inline\n",
    "\n",
    "pi = np.pi \n",
    "\n",
    "def find_nearest(array, value):\n",
    "    array = np.asarray(array)\n",
    "    idx = (np.abs(array - value)).argmin()\n",
    "    return idx\n",
    "print('def: find_nearest(array, value)')\n",
    "\n",
    "def powerfunc_ten(hpp,amp1,shift1,amp2,shift2,amp3,shift3,amp4,shift4,amp5,shift5,amp6,shift6,amp7,shift7,amp8,shift8,amp9,shift9,amp10,shift10):\n",
    "    shifted1=amp1*shift(sinepw,shift1)\n",
    "    shifted2=amp2*shift(sinepw,shift2)\n",
    "    shifted3=amp3*shift(sinepw,shift3)\n",
    "    shifted4=amp4*shift(sinepw,shift4)\n",
    "    shifted5=amp5*shift(sinepw,shift5)\n",
    "    shifted6=amp6*shift(sinepw,shift6)\n",
    "    shifted7=amp1*shift(sinepw,shift7)\n",
    "    shifted8=amp2*shift(sinepw,shift8)\n",
    "    shifted9=amp3*shift(sinepw,shift9)\n",
    "    shifted10=amp4*shift(sinepw,shift10)\n",
    "    return shifted1+shifted2+shifted3+shifted4+shifted5+shifted6+shifted7+shifted8+shifted9+shifted10\n",
    "print('def: powerfunc_ten(hpp,amp1,shift1,amp2,shift2,amp3,shift3,amp4,shift4,amp5,shift5,amp6,shift6,amp7,shift7,amp8,shift8,amp9,shift9,amp10,shift10)')\n",
    "\n",
    "def powerfunc_six(hpp,amp1,shift1,amp2,shift2,amp3,shift3,amp4,shift4,amp5,shift5,amp6,shift6):\n",
    "    shifted1=amp1*shift(sinepw,shift1)\n",
    "    shifted2=amp2*shift(sinepw,shift2)\n",
    "    shifted3=amp3*shift(sinepw,shift3)\n",
    "    shifted4=amp4*shift(sinepw,shift4)\n",
    "    shifted5=amp5*shift(sinepw,shift5)\n",
    "    shifted6=amp6*shift(sinepw,shift6)\n",
    "    return shifted1+shifted2+shifted3+shifted4+shifted5+shifted6\n",
    "print('def: powerfunc_six(hpp,amp1,shift1,amp2,shift2,amp3,shift3,amp4,shift4,amp5,shift5,amp6,shift6)')\n",
    "\n",
    "def powerfunc_four(hpp,amp1,shift1,amp2,shift2,amp3,shift3,amp4,shift4):\n",
    "    shifted1=amp1*shift(sinepw,shift1)\n",
    "    shifted2=amp2*shift(sinepw,shift2)\n",
    "    shifted3=amp3*shift(sinepw,shift3)\n",
    "    shifted4=amp4*shift(sinepw,shift4)\n",
    "    return shifted1+shifted2+shifted3+shifted4\n",
    "print('def: powerfunc_four(hpp,amp1,shift1,amp2,shift2,amp3,shift3,amp4,shift4)')\n",
    "      \n",
    "def powerfunc(hpp,amp1,shift1,amp2,shift2,amp3,shift3):\n",
    "    shifted1=amp1*shift(sinepw,shift1)\n",
    "    shifted2=amp2*shift(sinepw,shift2)\n",
    "    shifted3=amp3*shift(sinepw,shift3)\n",
    "    return shifted1+shifted2+shifted3\n",
    "print('def: powerfunc(hpp,amp1,shift1,amp2,shift2,amp3,shift3)')\n",
    "      \n",
    "def powerfuncsingle(hpp,amp1,shift1):\n",
    "    shifted1=amp1*shift(sinepw,shift1)\n",
    "    return shifted1\n",
    "print('def: powerfuncsingle(hpp,amp1,shift1)')\n",
    "\n",
    "import os\n",
    "from os.path import join\n",
    "array = os.path.abspath('').split('/')\n",
    "homedir = '/'\n",
    "for i in range(1,7):\n",
    "   homedir = join(homedir, array[i])\n",
    "homedir"
   ]
  },
  {
   "cell_type": "code",
   "execution_count": 7,
   "id": "b98eaa8d-a0f5-4cf8-ba37-1a4a105b72ca",
   "metadata": {},
   "outputs": [
    {
     "name": "stdout",
     "output_type": "stream",
     "text": [
      "Shapes: errs, fluxs, lams: (44, 1299) (44, 1299)\n",
      "lams[0]: [2.84852295 2.85032182 2.85212069 ... 5.17857709 5.18037147        nan]\n",
      "fluxs:    2.871908  2.873707  2.875506  2.877305  2.879104      2.880903  \\\n",
      "0       0.0       0.0       0.0       0.0       0.0  1.808831e-12   \n",
      "1       0.0       0.0       0.0       0.0       0.0  1.652340e-12   \n",
      "2       0.0       0.0       0.0       0.0       0.0 -1.984632e-12   \n",
      "3       0.0       0.0       0.0       0.0       0.0  4.593040e-14   \n",
      "4       0.0       0.0       0.0       0.0       0.0  2.273322e-12   \n",
      "\n",
      "       2.882702      2.884501      2.886299      2.888098  ...      5.162427  \\\n",
      "0  1.836369e-12  1.707473e-12  1.081268e-12  7.351999e-13  ...  3.596057e-10   \n",
      "1  1.443826e-12  8.526532e-13  1.261903e-12  1.551518e-13  ...  3.572353e-10   \n",
      "2  1.132129e-12  2.062765e-12  2.676360e-12  1.216635e-12  ...  3.512810e-10   \n",
      "3  7.644236e-13 -6.589217e-13  1.706289e-12 -7.642860e-13  ...  3.549474e-10   \n",
      "4  9.638166e-13  2.349834e-12  5.944406e-13  1.546944e-12  ...  3.516795e-10   \n",
      "\n",
      "       5.164222      5.167811      5.169605      5.171399      5.173194  \\\n",
      "0  4.315524e-10  3.919814e-10  3.884428e-10  2.544634e-10  2.156966e-10   \n",
      "1  4.341975e-10  4.060957e-10  3.570744e-10  3.012594e-10  1.926282e-10   \n",
      "2  4.016594e-10  3.825355e-10  3.681129e-10  2.565509e-10  2.136669e-10   \n",
      "3  4.232157e-10  4.001199e-10  3.792896e-10  2.773242e-10  2.160637e-10   \n",
      "4  4.186260e-10  3.952198e-10  3.735081e-10  2.643365e-10  2.052748e-10   \n",
      "\n",
      "   5.174988  5.176783  5.178577  5.180371  \n",
      "0       0.0       0.0       0.0       0.0  \n",
      "1       0.0       0.0       0.0       0.0  \n",
      "2       0.0       0.0       0.0       0.0  \n",
      "3       0.0       0.0       0.0       0.0  \n",
      "4       0.0       0.0       0.0       0.0  \n",
      "\n",
      "[5 rows x 1279 columns]\n"
     ]
    },
    {
     "data": {
      "image/png": "[encoded data removed]",
      "text/plain": [
       "<Figure size 288x288 with 1 Axes>"
      ]
     },
     "metadata": {
      "needs_background": "light"
     },
     "output_type": "display_data"
    }
   ],
   "source": [
    "# WISE 0855 data\n",
    "errs, fluxs, lams = [],[],[]\n",
    "\n",
    "errs = np.load('/Users/nguyendat/Documents/GitHub/aroma/2025jwst_brittany_data/wise0855_custom_extraction_flux_errs_masked_11102024.npy')\n",
    "fluxs = np.load('/Users/nguyendat/Documents/GitHub/aroma/2025jwst_brittany_data/wise0855_custom_extraction_fluxes_masked_11102024.npy')\n",
    "lams = np.load('/Users/nguyendat/Documents/GitHub/aroma/2025jwst_brittany_data/wise0855_custom_extraction_lams_masked_11102024.npy')\n",
    "\n",
    "print('Shapes: errs, fluxs, lams:', fluxs.shape, lams.shape)\n",
    "plt.figure(figsize=(4,4))\n",
    "plt.plot(lams[0], fluxs[0], alpha=1, lw=0.2)\n",
    "plt.plot(lams[20], fluxs[20], alpha=1, lw=0.2)\n",
    "plt.plot(lams[40], fluxs[40], alpha=1, lw=0.2)\n",
    "\n",
    "errs = pd.DataFrame(errs, columns=lams[0])\n",
    "fluxs = pd.DataFrame(fluxs, columns=lams[0])\n",
    "\n",
    "fluxs = fluxs.dropna(axis=1, how='all').fillna(0)\n",
    "errs = errs.dropna(axis=1, how='all').fillna(0)\n",
    "\n",
    "print('lams[0]:', lams[0])\n",
    "print('fluxs:', fluxs.head()) "
   ]
  },
  {
   "cell_type": "code",
   "execution_count": 8,
   "id": "626e662b-9351-4a58-8fff-040c25f78ac0",
   "metadata": {},
   "outputs": [
    {
     "name": "stdout",
     "output_type": "stream",
     "text": [
      "[2.932, 3.047, 3.163, 3.278, 3.393, 3.508, 3.623, 3.738, 3.853, 3.969, 4.084, 4.2, 4.316, 4.431, 4.546, 4.661, 4.777, 4.892, 5.008, 5.123]\n"
     ]
    },
    {
     "data": {
      "text/plain": [
       "(<Figure size 432x216 with 1 Axes>,\n",
       " [<matplotlib.lines.Line2D at 0x7fb3611ab8b0>])"
      ]
     },
     "execution_count": 8,
     "metadata": {},
     "output_type": "execute_result"
    },
    {
     "data": {
      "image/png": "[encoded data removed]",
      "text/plain": [
       "<Figure size 432x216 with 1 Axes>"
      ]
     },
     "metadata": {
      "needs_background": "light"
     },
     "output_type": "display_data"
    },
    {
     "data": {
      "image/png": "[encoded data removed]",
      "text/plain": [
       "<Figure size 432x216 with 1 Axes>"
      ]
     },
     "metadata": {
      "needs_background": "light"
     },
     "output_type": "display_data"
    },
    {
     "data": {
      "image/png": "[encoded data removed]",
      "text/plain": [
       "<Figure size 432x216 with 1 Axes>"
      ]
     },
     "metadata": {
      "needs_background": "light"
     },
     "output_type": "display_data"
    }
   ],
   "source": [
    "# Split the columns into 20 bins and aggregate (mean) within each bin\n",
    "num_bins = 20\n",
    "\n",
    "# Split the columns into 20 bins\n",
    "binned_columns = np.array_split(fluxs.columns, num_bins)\n",
    "\n",
    "binned_lams = [np.around(np.mean(a), decimals=3) for a in binned_columns]\n",
    "print(binned_lams)\n",
    "\n",
    "# Aggregate (e.g., take the mean) within each bin\n",
    "binned_fluxs = np.array([fluxs.loc[:, cols].mean(axis=1) for cols in binned_columns]).T\n",
    "# print(binned_fluxs)\n",
    "\n",
    "binned_fluxs = pd.DataFrame(binned_fluxs, columns=binned_lams)\n",
    "binned_fluxs\n",
    "\n",
    "plt.figure(figsize=(6,3)), plt.plot(binned_fluxs[4.431], ls='--', marker='o')\n",
    "plt.figure(figsize=(6,3)), plt.plot(binned_fluxs[4.546], ls='--', marker='o')\n",
    "plt.figure(figsize=(6,3)), plt.plot(binned_fluxs[4.661], ls='--', marker='o')"
   ]
  },
  {
   "cell_type": "code",
   "execution_count": 24,
   "id": "fe0a8e4d-624f-4969-a41d-13d8c056cb68",
   "metadata": {},
   "outputs": [
    {
     "data": {
      "text/html": [
       "<div>\n",
       "<style scoped>\n",
       "    .dataframe tbody tr th:only-of-type {\n",
       "        vertical-align: middle;\n",
       "    }\n",
       "\n",
       "    .dataframe tbody tr th {\n",
       "        vertical-align: top;\n",
       "    }\n",
       "\n",
       "    .dataframe thead th {\n",
       "        text-align: right;\n",
       "    }\n",
       "</style>\n",
       "<table border=\"1\" class=\"dataframe\">\n",
       "  <thead>\n",
       "    <tr style=\"text-align: right;\">\n",
       "      <th></th>\n",
       "      <th>2.932</th>\n",
       "      <th>3.047</th>\n",
       "      <th>3.163</th>\n",
       "      <th>3.278</th>\n",
       "      <th>3.393</th>\n",
       "      <th>3.508</th>\n",
       "      <th>3.623</th>\n",
       "      <th>3.738</th>\n",
       "      <th>3.853</th>\n",
       "      <th>3.969</th>\n",
       "      <th>4.084</th>\n",
       "      <th>4.200</th>\n",
       "      <th>4.316</th>\n",
       "      <th>4.431</th>\n",
       "      <th>4.546</th>\n",
       "      <th>4.661</th>\n",
       "      <th>4.777</th>\n",
       "      <th>4.892</th>\n",
       "      <th>5.008</th>\n",
       "      <th>5.123</th>\n",
       "    </tr>\n",
       "  </thead>\n",
       "  <tbody>\n",
       "    <tr>\n",
       "      <th>0</th>\n",
       "      <td>0.639455</td>\n",
       "      <td>0.228677</td>\n",
       "      <td>0.403543</td>\n",
       "      <td>1.381391</td>\n",
       "      <td>1.074407</td>\n",
       "      <td>0.232478</td>\n",
       "      <td>0.078072</td>\n",
       "      <td>0.041979</td>\n",
       "      <td>0.027307</td>\n",
       "      <td>0.018411</td>\n",
       "      <td>0.015766</td>\n",
       "      <td>0.013656</td>\n",
       "      <td>0.011348</td>\n",
       "      <td>0.011322</td>\n",
       "      <td>0.011885</td>\n",
       "      <td>0.014308</td>\n",
       "      <td>0.013833</td>\n",
       "      <td>0.015133</td>\n",
       "      <td>0.016825</td>\n",
       "      <td>0.023302</td>\n",
       "    </tr>\n",
       "    <tr>\n",
       "      <th>1</th>\n",
       "      <td>0.670941</td>\n",
       "      <td>0.239801</td>\n",
       "      <td>0.418689</td>\n",
       "      <td>1.719048</td>\n",
       "      <td>0.873020</td>\n",
       "      <td>0.242042</td>\n",
       "      <td>0.080123</td>\n",
       "      <td>0.041964</td>\n",
       "      <td>0.027462</td>\n",
       "      <td>0.018493</td>\n",
       "      <td>0.015766</td>\n",
       "      <td>0.013702</td>\n",
       "      <td>0.011365</td>\n",
       "      <td>0.011359</td>\n",
       "      <td>0.011930</td>\n",
       "      <td>0.014359</td>\n",
       "      <td>0.013816</td>\n",
       "      <td>0.015191</td>\n",
       "      <td>0.016932</td>\n",
       "      <td>0.023208</td>\n",
       "    </tr>\n",
       "    <tr>\n",
       "      <th>2</th>\n",
       "      <td>0.842560</td>\n",
       "      <td>0.229482</td>\n",
       "      <td>0.409176</td>\n",
       "      <td>1.676962</td>\n",
       "      <td>0.870946</td>\n",
       "      <td>0.235473</td>\n",
       "      <td>0.078425</td>\n",
       "      <td>0.042649</td>\n",
       "      <td>0.027369</td>\n",
       "      <td>0.018553</td>\n",
       "      <td>0.015845</td>\n",
       "      <td>0.013769</td>\n",
       "      <td>0.011414</td>\n",
       "      <td>0.011386</td>\n",
       "      <td>0.011984</td>\n",
       "      <td>0.014387</td>\n",
       "      <td>0.013883</td>\n",
       "      <td>0.015173</td>\n",
       "      <td>0.016856</td>\n",
       "      <td>0.023389</td>\n",
       "    </tr>\n",
       "    <tr>\n",
       "      <th>3</th>\n",
       "      <td>0.748709</td>\n",
       "      <td>0.228711</td>\n",
       "      <td>0.405026</td>\n",
       "      <td>2.114162</td>\n",
       "      <td>0.870757</td>\n",
       "      <td>0.230637</td>\n",
       "      <td>0.079313</td>\n",
       "      <td>0.042323</td>\n",
       "      <td>0.027577</td>\n",
       "      <td>0.018668</td>\n",
       "      <td>0.015875</td>\n",
       "      <td>0.013770</td>\n",
       "      <td>0.011431</td>\n",
       "      <td>0.011411</td>\n",
       "      <td>0.012024</td>\n",
       "      <td>0.014390</td>\n",
       "      <td>0.013927</td>\n",
       "      <td>0.015229</td>\n",
       "      <td>0.016906</td>\n",
       "      <td>0.023292</td>\n",
       "    </tr>\n",
       "    <tr>\n",
       "      <th>4</th>\n",
       "      <td>0.804167</td>\n",
       "      <td>0.238793</td>\n",
       "      <td>0.429988</td>\n",
       "      <td>1.866874</td>\n",
       "      <td>0.982784</td>\n",
       "      <td>0.226215</td>\n",
       "      <td>0.079295</td>\n",
       "      <td>0.042578</td>\n",
       "      <td>0.027540</td>\n",
       "      <td>0.018677</td>\n",
       "      <td>0.015886</td>\n",
       "      <td>0.013810</td>\n",
       "      <td>0.011463</td>\n",
       "      <td>0.011433</td>\n",
       "      <td>0.012266</td>\n",
       "      <td>0.015306</td>\n",
       "      <td>0.014610</td>\n",
       "      <td>0.015242</td>\n",
       "      <td>0.016952</td>\n",
       "      <td>0.023475</td>\n",
       "    </tr>\n",
       "  </tbody>\n",
       "</table>\n",
       "</div>"
      ],
      "text/plain": [
       "      2.932     3.047     3.163     3.278     3.393     3.508     3.623  \\\n",
       "0  0.639455  0.228677  0.403543  1.381391  1.074407  0.232478  0.078072   \n",
       "1  0.670941  0.239801  0.418689  1.719048  0.873020  0.242042  0.080123   \n",
       "2  0.842560  0.229482  0.409176  1.676962  0.870946  0.235473  0.078425   \n",
       "3  0.748709  0.228711  0.405026  2.114162  0.870757  0.230637  0.079313   \n",
       "4  0.804167  0.238793  0.429988  1.866874  0.982784  0.226215  0.079295   \n",
       "\n",
       "      3.738     3.853     3.969     4.084     4.200     4.316     4.431  \\\n",
       "0  0.041979  0.027307  0.018411  0.015766  0.013656  0.011348  0.011322   \n",
       "1  0.041964  0.027462  0.018493  0.015766  0.013702  0.011365  0.011359   \n",
       "2  0.042649  0.027369  0.018553  0.015845  0.013769  0.011414  0.011386   \n",
       "3  0.042323  0.027577  0.018668  0.015875  0.013770  0.011431  0.011411   \n",
       "4  0.042578  0.027540  0.018677  0.015886  0.013810  0.011463  0.011433   \n",
       "\n",
       "      4.546     4.661     4.777     4.892     5.008     5.123  \n",
       "0  0.011885  0.014308  0.013833  0.015133  0.016825  0.023302  \n",
       "1  0.011930  0.014359  0.013816  0.015191  0.016932  0.023208  \n",
       "2  0.011984  0.014387  0.013883  0.015173  0.016856  0.023389  \n",
       "3  0.012024  0.014390  0.013927  0.015229  0.016906  0.023292  \n",
       "4  0.012266  0.015306  0.014610  0.015242  0.016952  0.023475  "
      ]
     },
     "execution_count": 24,
     "metadata": {},
     "output_type": "execute_result"
    }
   ],
   "source": [
    "# Do the same for errors\n",
    "\n",
    "# Split the columns into 20 bins\n",
    "binned_columnsErr = np.array_split(errs.columns, num_bins)\n",
    "\n",
    "# Aggregate (e.g., take the mean) within each bin\n",
    "binned_errs = np.array([errs.loc[:, cols].median(axis=1) for cols in binned_columnsErr]).T\n",
    "# print(binned_fluxs)\n",
    "\n",
    "binned_errs = pd.DataFrame(binned_errs, columns=binned_lams)/binned_fluxs\n",
    "binned_errs.head()"
   ]
  },
  {
   "cell_type": "code",
   "execution_count": 32,
   "id": "ebfb333d-c6fb-4f1f-8b84-a561b607a756",
   "metadata": {
    "tags": []
   },
   "outputs": [
    {
     "data": {
      "text/plain": [
       "Text(0.5, 0, 'Hrs')"
      ]
     },
     "execution_count": 32,
     "metadata": {},
     "output_type": "execute_result"
    },
    {
     "data": {
      "image/png": "[encoded data removed]",
      "text/plain": [
       "<Figure size 504x216 with 1 Axes>"
      ]
     },
     "metadata": {
      "needs_background": "light"
     },
     "output_type": "display_data"
    }
   ],
   "source": [
    "time, lc, elc = np.arange(fluxs.shape[0])/4, binned_fluxs[4.546], binned_errs[4.546]\n",
    "lc = 1+(lc - lc.mean())/lc.max()\n",
    "plt.close('all')\n",
    "plt.figure(figsize=(7,3))\n",
    "plt.errorbar(time, lc, yerr=elc, elinewidth=0.5, ls='', marker='o', ms=6.0)\n",
    "plt.title('Binned flux 4.546-+0.05 um')\n",
    "plt.xlabel('Hrs')"
   ]
  },
  {
   "cell_type": "code",
   "execution_count": 10,
   "id": "753dc337-11b1-428d-b356-18a7acd9f334",
   "metadata": {},
   "outputs": [],
   "source": [
    "def sixsines(time, a1, p1, a2, p2, a3, p3, a4, p4, a5, p5, a6, p6, offset):\n",
    "    periods = np.array([4.58, 4.68, 4.98, 5.21, 5.26, 5.34])\n",
    "    om = 2*pi/periods\n",
    "    \n",
    "    sine1 = a1 * np.sin(om[0]*time + p1)\n",
    "    sine2 = a2 * np.sin(om[1]*time + p2)\n",
    "    sine3 = a3 * np.sin(om[2]*time + p3)\n",
    "    sine4 = a4 * np.sin(om[3]*time + p4)\n",
    "    sine5 = a5 * np.sin(om[4]*time + p5)\n",
    "    sine6 = a6 * np.sin(om[5]*time + p6)\n",
    "    fit = sine1 + sine2 + sine3 + sine4 + sine5 + sine6 + offset\n",
    "    \n",
    "    if not residual: \n",
    "        return fit\n",
    "    else:\n",
    "        res = np.sum( ((data-fit)/0.003)**2 )\n",
    "        return (fit, res)\n",
    "\n",
    "def threesines (time, a1, p1, a2, p2, a3, p3, offset):\n",
    "    periods = np.array([4.68, 4.98, 5.26])\n",
    "    om = 2*pi/periods\n",
    "    \n",
    "    sine1 = a1 * np.sin(om[0]*time + p1)\n",
    "    sine2 = a2 * np.sin(om[1]*time + p2)\n",
    "    sine3 = a3 * np.sin(om[2]*time + p3)\n",
    "    fit = sine1 + sine2 + sine3\n",
    "    \n",
    "    return fit"
   ]
  },
  {
   "cell_type": "markdown",
   "id": "731a41ba-8433-424a-979b-a64d109ec45e",
   "metadata": {},
   "source": [
    "# hyperOPT Decision Tree"
   ]
  },
  {
   "cell_type": "code",
   "execution_count": 11,
   "id": "fa3b5f80-564d-44d8-8378-14584230bc87",
   "metadata": {},
   "outputs": [],
   "source": [
    "import sys\n",
    "import tarfile\n",
    "\n",
    "# Monkey-patch backports.tarfile to use the standard tarfile module\n",
    "sys.modules['backports.tarfile'] = tarfile\n",
    "\n",
    "import sklearn \n",
    "from sklearn.metrics import mean_squared_error, r2_score\n",
    "from hyperopt import hp, tpe, Trials, fmin\n",
    "# import time\n",
    "pi = np.pi"
   ]
  },
  {
   "cell_type": "code",
   "execution_count": 12,
   "id": "3b02af20-f5fe-4b94-a8f6-435b17e17238",
   "metadata": {},
   "outputs": [
    {
     "name": "stdout",
     "output_type": "stream",
     "text": [
      "1.0471975511965976 1.0471975511965976 0.5235987755982988\n",
      "0.31415926535897926 0.31415926535897926 0.15707963267948963\n"
     ]
    }
   ],
   "source": [
    "# choose time subset\n",
    "tlow, thigh = time[0], time[-1]\n",
    "subset = lc\n",
    "\n",
    "periods3 = np.array([6.0, 6.0, 12.0])\n",
    "om3 = 2*pi/periods3\n",
    "w1, w2, w3 = om3[0], om3[1], om3[2]\n",
    "print(w1, w2, w3)\n",
    "print(0.3*w1, 0.3*w2, 0.3*w3)\n",
    "\n",
    "# known_freq = True # prescribe 3 known freq\n",
    "known_freq = False # guess freq from fit\n",
    "\n",
    "if known_freq:\n",
    "    w1, w2, w3"
   ]
  },
  {
   "cell_type": "code",
   "execution_count": 13,
   "id": "4edaa4a1-8b5f-46e5-a3bd-11e7c7410ca8",
   "metadata": {},
   "outputs": [],
   "source": [
    "# random split the data into train and test\n",
    "x_data = time\n",
    "y_data = lc\n",
    "\n",
    "from sklearn.model_selection import train_test_split\n",
    "X_train, X_test, y_train, y_test = train_test_split(x_data, y_data, test_size=0.5, random_state=42)\n",
    "\n",
    "if known_freq:\n",
    "    def objective(a0, a1, f1, a2, f2, a3, f3):\n",
    "        \"\"\"Objective function to minimize\"\"\"\n",
    "        w1, w2, w3 = om3[0], om3[1], om3[2]\n",
    "        return np.mean((a0+ a1 * np.sin(w1*X_train + f1) + a2 * np.sin(w2*X_train + f2) + a3 * np.sin(w3*X_train + f3) - y_train)**2)\n",
    "    \n",
    "    def objective2(args):\n",
    "        return objective(*args)\n",
    "else:\n",
    "    def objective(a0, a1, f1, a2, f2, a3, f3, w1, w2, w3):\n",
    "        \"\"\"Objective function to minimize\"\"\"\n",
    "        return np.mean((a0+ a1 * np.sin(w1*X_train + f1) + a2 * np.sin(w2*X_train + f2) + a3 * np.sin(w3*X_train + f3) - y_train)**2)\n",
    "\n",
    "    def objective2(args):\n",
    "        return objective(*args)\n",
    "\n",
    "seed = 12345512\n",
    "np.random.seed(seed)"
   ]
  },
  {
   "cell_type": "code",
   "execution_count": 14,
   "id": "64ff2744-c38f-4cab-8d7d-836ad7ae720c",
   "metadata": {},
   "outputs": [],
   "source": [
    "from hyperopt import hp, tpe, Trials, fmin\n",
    "from IPython.display import display, Math\n",
    "bounds = [[0, 2],\n",
    "          [0, 0.1],\n",
    "          [-np.pi, np.pi],\n",
    "          [0, 0.1],\n",
    "          [-np.pi, np.pi],\n",
    "          [0, 0.1],\n",
    "          [-np.pi, np.pi],\n",
    "          [0.4, 0.6],\n",
    "          [0.4, 0.6],\n",
    "          [0.9, 1.1]]\n",
    "\n",
    "if known_freq:\n",
    "    space = [hp.uniform('a0', bounds[0][0], bounds[0][1]),\n",
    "             hp.uniform('a1', bounds[1][0], bounds[1][1]), \n",
    "             hp.uniform('f1', bounds[2][0], bounds[2][1]),\n",
    "             hp.uniform('a2', bounds[3][0], bounds[3][1]), \n",
    "             hp.uniform('f2', bounds[4][0], bounds[4][1]),\n",
    "             hp.uniform('a3', bounds[5][0], bounds[5][1]), \n",
    "             hp.uniform('f3', bounds[6][0], bounds[6][1])]\n",
    "else:\n",
    "    space = [hp.uniform('a0', bounds[0][0], bounds[0][1]),\n",
    "             hp.uniform('a1', bounds[1][0], bounds[1][1]), \n",
    "             hp.uniform('f1', bounds[2][0], bounds[2][1]),\n",
    "             hp.uniform('a2', bounds[3][0], bounds[3][1]), \n",
    "             hp.uniform('f2', bounds[4][0], bounds[4][1]),\n",
    "             hp.uniform('a3', bounds[5][0], bounds[5][1]), \n",
    "             hp.uniform('f3', bounds[6][0], bounds[6][1]),\n",
    "             hp.uniform('w1', bounds[7][0], bounds[7][1]),\n",
    "             hp.uniform('w2', bounds[8][0], bounds[8][1]),\n",
    "             hp.uniform('w3', bounds[9][0], bounds[9][1])]"
   ]
  },
  {
   "cell_type": "code",
   "execution_count": 15,
   "id": "642815c0-94e7-43b3-8ca5-93eefc4908ba",
   "metadata": {},
   "outputs": [
    {
     "name": "stdout",
     "output_type": "stream",
     "text": [
      "100%|█| 5000/5000 [04:07<00:00, 20.20trial/s, best loss: 2.0536757927016607e-0\n",
      "Fitted parameters:\n"
     ]
    },
    {
     "data": {
      "text/latex": [
       "$\\displaystyle a_0=1.00306, a_1=7.06e-02, \\phi_1=1.05, a_2=9.27e-02, \\phi_2=-2.45, a_3=1.78e-02, \\phi_3=-2.71, \\omega_1=0.44, \\omega_2=0.49, \\omega_3=0.98$"
      ],
      "text/plain": [
       "<IPython.core.display.Math object>"
      ]
     },
     "metadata": {},
     "output_type": "display_data"
    }
   ],
   "source": [
    "tpe_algo = tpe.suggest\n",
    "tpe_trials = Trials()\n",
    "\n",
    "tpe_best = fmin(fn=objective2, space=space, algo=tpe_algo, trials=tpe_trials, max_evals=5000, rstate=np.random.default_rng(seed))\n",
    "\n",
    "if known_freq:\n",
    "    print('Prescribed frequency')\n",
    "    display(Math('\\\\omega_1={:.2f}, \\\\omega_2={:.2f}, \\\\omega_3={:.2f}'.format(*[w1, w2, w3])))\n",
    "\n",
    "    print('Fitted parameters:')\n",
    "    display(Math('a_0={a0:.5f}, a_1={a1:.2e}, \\\\phi_1={f1:.2f}, a_2={a2:.2e}, \\\\phi_2={f2:.2f}, a_3={a3:.2e}, \\\\phi_3={f3:.2f}'.format(**tpe_best)))\n",
    "else:\n",
    "    print('Fitted parameters:')\n",
    "    display(Math('a_0={a0:.5f}, a_1={a1:.2e}, \\\\phi_1={f1:.2f}, a_2={a2:.2e}, \\\\phi_2={f2:.2f}, a_3={a3:.2e}, \\\\phi_3={f3:.2f}, \\\\omega_1={w1:.2f}, \\\\omega_2={w2:.2f}, \\\\omega_3={w3:.2f}'.format(**tpe_best)))"
   ]
  },
  {
   "cell_type": "code",
   "execution_count": 34,
   "id": "0e02e855-fb39-43ee-95cd-9af3116887b5",
   "metadata": {},
   "outputs": [
    {
     "name": "stdout",
     "output_type": "stream",
     "text": [
      "mse: 2.4670459634253736e-05\n",
      "r2: 0.9407046333552934\n",
      "Fitted parameters:\n"
     ]
    },
    {
     "data": {
      "text/latex": [
       "$\\displaystyle a_0=1.00306, a_1=7.06e-02, \\phi_1=1.05, a_2=9.27e-02, \\phi_2=-2.45, a_3=1.78e-02, \\phi_3=-2.71, \\omega_1=0.44, \\omega_2=0.49, \\omega_3=0.98$"
      ],
      "text/plain": [
       "<IPython.core.display.Math object>"
      ]
     },
     "metadata": {},
     "output_type": "display_data"
    },
    {
     "name": "stdout",
     "output_type": "stream",
     "text": [
      "14.382, 12.776, 6.391\n",
      "0.437, 0.492, 0.983\n",
      "{'a0': 1.0030626236781328, 'a1': 0.07063657638186457, 'a2': 0.092738020458876, 'a3': 0.017816119425977637, 'f1': 1.0523770396705356, 'f2': -2.4474300594884144, 'f3': -2.7082210618466154, 'w1': 0.43687486730008723, 'w2': 0.49180962817186724, 'w3': 0.9832060218518874}\n"
     ]
    },
    {
     "data": {
      "image/png": "[encoded data removed]",
      "text/plain": [
       "<Figure size 864x288 with 1 Axes>"
      ]
     },
     "metadata": {
      "needs_background": "light"
     },
     "output_type": "display_data"
    }
   ],
   "source": [
    "# Test\n",
    "from sklearn.metrics import mean_squared_error, r2_score\n",
    "\n",
    "x_data = time\n",
    "y_data = lc\n",
    "y_errors = elc\n",
    "X_train, X_test, y_train, y_test = train_test_split(x_data, y_data, test_size=0.4, random_state=42)\n",
    "\n",
    "if known_freq:\n",
    "    ypred = tpe_best['a0']+ tpe_best['a1'] * np.sin(w1 * X_test + tpe_best['f1']) +tpe_best['a2'] * np.sin(w2 * X_test + tpe_best['f2']) +tpe_best['a3'] * np.sin(w3 * X_test + tpe_best['f3'])\n",
    "    y = tpe_best['a0'] + tpe_best['a1'] * np.sin(w1* x_data + tpe_best['f1']) + tpe_best['a2'] * np.sin(w2 * x_data + tpe_best['f2']) + tpe_best['a3'] * np.sin(w3 * x_data + tpe_best['f3'])\n",
    "else:\n",
    "    ypred = tpe_best['a0']+ tpe_best['a1'] * np.sin(tpe_best['w1'] * X_test + tpe_best['f1']) +tpe_best['a2'] * np.sin(tpe_best['w2'] * X_test + tpe_best['f2']) +tpe_best['a3'] * np.sin(tpe_best['w3'] * X_test + tpe_best['f3'])\n",
    "    y =  tpe_best['a0'] + tpe_best['a1'] * np.sin(tpe_best['w1']* x_data + tpe_best['f1']) + tpe_best['a2'] * np.sin(tpe_best['w2'] * x_data + tpe_best['f2']) + tpe_best['a3'] * np.sin(tpe_best['w3'] * x_data + tpe_best['f3'])    \n",
    "    \n",
    "rmse = mean_squared_error(y_test,ypred)\n",
    "r2 = r2_score(y_test,ypred)\n",
    "print('mse:', rmse)\n",
    "print('r2:',r2)\n",
    "\n",
    "fig, ax = plt.subplots(figsize=(12,4))\n",
    "ax.errorbar(x_data, y_data, yerr=elc, elinewidth=0.5, color= '#678491', ls='', marker='o', ms=5)\n",
    "ax.plot(x_data, y, label= 'Fit with hyperopt', color='#EA1B1D')\n",
    "# plt.ylim((0.9, 1.1))\n",
    "ax.set_ylabel('y', fontsize= 14)\n",
    "ax.set_xlabel('Hours', fontsize= 14)\n",
    "plt.legend(loc='lower right')\n",
    "plt.title('Segment: %i - %i hours, hyperOPT, prescribed_freq=%s'%(tlow, thigh, known_freq))\n",
    "\n",
    "if known_freq:\n",
    "    print('Prescribed frequency')\n",
    "    display(Math('\\\\omega_1={:.2f}, \\\\omega_2={:.2f}, \\\\omega_3={:.2f}'.format(*[w1, w2, w3])))\n",
    "\n",
    "    print('Fitted parameters:')\n",
    "    display(Math('a_0={a0:.5f}, a_1={a1:.2e}, \\\\phi_1={f1:.2f}, a_2={a2:.2e}, \\\\phi_2={f2:.2f}, a_3={a3:.2e}, \\\\phi_3={f3:.2f}'.format(**tpe_best)))\n",
    "else:\n",
    "    w1, w2, w3 = tpe_best['w1'], tpe_best['w2'], tpe_best['w3']\n",
    "    print('Fitted parameters:')\n",
    "    display(Math('a_0={a0:.5f}, a_1={a1:.2e}, \\\\phi_1={f1:.2f}, a_2={a2:.2e}, \\\\phi_2={f2:.2f}, a_3={a3:.2e}, \\\\phi_3={f3:.2f}, \\\\omega_1={w1:.2f}, \\\\omega_2={w2:.2f}, \\\\omega_3={w3:.2f}'.format(**tpe_best)))\n",
    "    \n",
    "print('%.3f, %.3f, %.3f'%(2*pi/w1, 2*pi/w2, 2*pi/w3))\n",
    "print('%.3f, %.3f, %.3f'%(w1, w2, w3))\n",
    "print(tpe_best)"
   ]
  },
  {
   "cell_type": "code",
   "execution_count": 35,
   "id": "f56c6994-d7ea-4383-826e-671d1e03140e",
   "metadata": {},
   "outputs": [
    {
     "name": "stdout",
     "output_type": "stream",
     "text": [
      "True\n"
     ]
    }
   ],
   "source": [
    "#### Write the light curve metadata to be used in subsequent MCMC steps.\n",
    "\n",
    "write = True\n",
    "#write = False\n",
    "\n",
    "if write:\n",
    "    fitinfo = tpe_best.copy()\n",
    "    for i, key in enumerate(tpe_best):\n",
    "        val = fitinfo[key]\n",
    "        list = [val]\n",
    "        list.append(bounds[i])\n",
    "        fitinfo[key] = list\n",
    "    fitinfo['hr'] = tlow, thigh\n",
    "    fitinfo['known_freq'] = known_freq\n",
    "\n",
    "    handle_code = 'hyperOPT'\n",
    "    fitinfo['code'] = handle_code\n",
    "    if known_freq: handle_case = 'limFreq'\n",
    "    else: handle_case = 'freeFreq'\n",
    "\n",
    "    folder = join(homedir,'lightCurveFit_metadata')\n",
    "    filename = '%s_sector3637_%i_%i-hr_%s_fitMeta.pkl'%(handle_code, tlow, thigh, handle_case)\n",
    "\n",
    "    import pickle\n",
    "\n",
    "    with open(join(folder, filename), 'wb') as file:\n",
    "        pickle.dump(fitinfo, file, protocol=pickle.HIGHEST_PROTOCOL)\n",
    "\n",
    "    with open(join(folder, filename), 'rb') as file:\n",
    "        b = pickle.load(file)\n",
    "    print(b == fitinfo)\n",
    "    b"
   ]
  }
 ],
 "metadata": {
  "kernelspec": {
   "display_name": "Python 3 (ipykernel)",
   "language": "python",
   "name": "python3"
  },
  "language_info": {
   "codemirror_mode": {
    "name": "ipython",
    "version": 3
   },
   "file_extension": ".py",
   "mimetype": "text/x-python",
   "name": "python",
   "nbconvert_exporter": "python",
   "pygments_lexer": "ipython3",
   "version": "3.9.7"
  }
 },
 "nbformat": 4,
 "nbformat_minor": 5
}
