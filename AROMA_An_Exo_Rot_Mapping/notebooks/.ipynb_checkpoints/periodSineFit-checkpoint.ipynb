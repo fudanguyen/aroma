{
 "cells": [
  {
   "cell_type": "markdown",
   "id": "33ee89a5-8c16-4f3a-bae7-0546d3462fd6",
   "metadata": {},
   "source": [
    "# LIGHT CURVE SINE WAVES PERIOD FITTING"
   ]
  },
  {
   "cell_type": "code",
   "execution_count": 1,
   "id": "52079822-0b4b-41b2-893b-db2fb8e6eda7",
   "metadata": {},
   "outputs": [
    {
     "name": "stdout",
     "output_type": "stream",
     "text": [
      "\n",
      "def: find_nearest(array, value)\n",
      "def: powerfunc_six(hpp,amp1,shift1,amp2,shift2,amp3,shift3,amp4,shift4,amp5,shift5,amp6,shift6)\n",
      "def: powerfunc_four(hpp,amp1,shift1,amp2,shift2,amp3,shift3,amp4,shift4)\n",
      "def: powerfunc(hpp,amp1,shift1,amp2,shift2,amp3,shift3)\n",
      "def: powerfuncsingle(hpp,amp1,shift1)\n"
     ]
    }
   ],
   "source": [
    "from AROMA.utils import *\n",
    "from AROMA.config import *\n",
    "import pandas as pd\n",
    "%matplotlib widget\n",
    "data = pd.read_csv(data_path, header=0, delimiter='\\t')\n",
    "time=data.TIME*24\n",
    "lc  =data.PSF_FLUX_COR\n",
    "elc =data.SKY_LOCAL\n",
    "fit_dir = '/Users/fuda/Documents/GitHub/aroma/AROMA_An_Exo_Rot_Mapping/notebooks/periodSineFit_metadata/'\n",
    "\n",
    "def find_nearest(array, value):\n",
    "    array = np.asarray(array)\n",
    "    idx = (np.abs(array - value)).argmin()\n",
    "    return idx\n",
    "print('def: find_nearest(array, value)')\n",
    "\n",
    "def powerfunc_six(hpp,amp1,shift1,amp2,shift2,amp3,shift3,amp4,shift4,amp5,shift5,amp6,shift6):\n",
    "    shifted1=amp1*shift(sinepw,shift1)\n",
    "    shifted2=amp2*shift(sinepw,shift2)\n",
    "    shifted3=amp3*shift(sinepw,shift3)\n",
    "    shifted4=amp4*shift(sinepw,shift4)\n",
    "    shifted5=amp5*shift(sinepw,shift5)\n",
    "    shifted6=amp6*shift(sinepw,shift6)\n",
    "    return shifted1+shifted2+shifted3+shifted4+shifted5+shifted6\n",
    "print('def: powerfunc_six(hpp,amp1,shift1,amp2,shift2,amp3,shift3,amp4,shift4,amp5,shift5,amp6,shift6)')\n",
    "\n",
    "def powerfunc_four(hpp,amp1,shift1,amp2,shift2,amp3,shift3,amp4,shift4):\n",
    "    shifted1=amp1*shift(sinepw,shift1)\n",
    "    shifted2=amp2*shift(sinepw,shift2)\n",
    "    shifted3=amp3*shift(sinepw,shift3)\n",
    "    shifted4=amp4*shift(sinepw,shift4)\n",
    "    return shifted1+shifted2+shifted3+shifted4\n",
    "print('def: powerfunc_four(hpp,amp1,shift1,amp2,shift2,amp3,shift3,amp4,shift4)')\n",
    "      \n",
    "def powerfunc(hpp,amp1,shift1,amp2,shift2,amp3,shift3):\n",
    "    shifted1=amp1*shift(sinepw,shift1)\n",
    "    shifted2=amp2*shift(sinepw,shift2)\n",
    "    shifted3=amp3*shift(sinepw,shift3)\n",
    "    return shifted1+shifted2+shifted3\n",
    "print('def: powerfunc(hpp,amp1,shift1,amp2,shift2,amp3,shift3)')\n",
    "      \n",
    "def powerfuncsingle(hpp,amp1,shift1):\n",
    "    shifted1=amp1*shift(sinepw,shift1)\n",
    "    return shifted1\n",
    "print('def: powerfuncsingle(hpp,amp1,shift1)')"
   ]
  },
  {
   "cell_type": "markdown",
   "id": "ecba1d37-0f60-4268-bbb9-2766f280def2",
   "metadata": {},
   "source": [
    "### SINE WAVES FITTING\n",
    "We now proceed to fitting multiple periods as compounded signal to compare with the data.\n",
    "The periodogram is generated with the fourier transform(?)"
   ]
  },
  {
   "cell_type": "code",
   "execution_count": 2,
   "id": "75471143-770f-44ef-b297-cb7cee180dc6",
   "metadata": {},
   "outputs": [
    {
     "ename": "NameError",
     "evalue": "name 'random' is not defined",
     "output_type": "error",
     "traceback": [
      "\u001b[0;31m---------------------------------------------------------------------------\u001b[0m",
      "\u001b[0;31mNameError\u001b[0m                                 Traceback (most recent call last)",
      "Input \u001b[0;32mIn [2]\u001b[0m, in \u001b[0;36m<cell line: 3>\u001b[0;34m()\u001b[0m\n\u001b[1;32m      1\u001b[0m \u001b[38;5;66;03m# Replace data with test sine wave\u001b[39;00m\n\u001b[1;32m      2\u001b[0m mu, sigma \u001b[38;5;241m=\u001b[39m \u001b[38;5;241m1.0\u001b[39m, \u001b[38;5;241m0.013\u001b[39m \u001b[38;5;66;03m# mean and standard deviation\u001b[39;00m\n\u001b[0;32m----> 3\u001b[0m noise \u001b[38;5;241m=\u001b[39m \u001b[43mrandom\u001b[49m\u001b[38;5;241m.\u001b[39mnormal(mu, sigma, \u001b[38;5;28mlen\u001b[39m(time))\n\u001b[1;32m      4\u001b[0m period1 \u001b[38;5;241m=\u001b[39m \u001b[38;5;241m5.28\u001b[39m\n\u001b[1;32m      5\u001b[0m period2 \u001b[38;5;241m=\u001b[39m \u001b[38;5;241m5.23\u001b[39m\n",
      "\u001b[0;31mNameError\u001b[0m: name 'random' is not defined"
     ]
    }
   ],
   "source": [
    "# Replace data with test sine wave\n",
    "mu, sigma = 1.0, 0.013 # mean and standard deviation\n",
    "noise = random.normal(mu, sigma, len(time))\n",
    "period1 = 5.28\n",
    "period2 = 5.23\n",
    "period3 = 5.28\n",
    "period4 = 5.45\n",
    "\n",
    "sinelc = 1.0+0.010*np.sin(2*np.pi*(time/period1))#+noise\n",
    "#sinelc2 = 1.0+0.010*np.sin(2*np.pi*(time/period2))+noise+0.010*np.sin(2*np.pi*(time/period3))\n",
    "#sinelc3 = 1.0+0.003*np.sin(2*np.pi*(time/period2))+noise+0.008*np.sin(2*np.pi*(time/period3))+0.004*np.sin(2*np.pi*(time/period4))\n",
    "\n",
    "#elc=np.ones(10000)/1000.\n",
    "#period = 15.\n",
    "#lc = 0.5*np.sin(2*np.pi*(time/period))\n",
    "\n",
    "#frequen = np.linspace(0.003,10.,100000)\n",
    "periodmax=6.\n",
    "periodmin=4.\n",
    "frequen = np.linspace(1/periodmax,1/periodmin,1000)\n",
    "\n",
    "# Compute the GLS periodogram with default options.\n",
    "# Choose Zechmeister-Kuerster normalization explicitly\n",
    "clp = pyPeriod.Gls((time,lc,0.25*elc), norm=\"ZK\", freq=frequen,ofac=10)\n",
    "\n",
    "# Calculate the Periodogram for the Window Function\n",
    "#wlp = pyPeriod.Gls((wtime,window), norm=\"ZK\", freq=frequen,ofac=10)\n",
    "#clp.info\n",
    "\n",
    "sinelp=pyPeriod.Gls((time,sinelc), norm=\"ZK\", freq=frequen,ofac=10)\n",
    "#sinelp2=pyPeriod.Gls((time,sinelc2), norm=\"ZK\", freq=frequen,ofac=10)\n",
    "#sinelp3=pyPeriod.Gls((time,sinelc3), norm=\"ZK\", freq=frequen,ofac=10)"
   ]
  },
  {
   "cell_type": "markdown",
   "id": "5768285a-401d-4bb2-a58c-1e6a734593de",
   "metadata": {},
   "source": [
    "### PLOTS OF MULTIPLE N-SINE WAVES FIT\n",
    "\n",
    "Plotting difference N-sine waves fit, with the option to refit the periods of power function.\n",
    "\n",
    "**SHOULD REREAD CODE FOR UNDERSTANDING**"
   ]
  },
  {
   "cell_type": "code",
   "execution_count": 45,
   "id": "b00dec0d-f14b-4a01-bd92-5d253d307ef0",
   "metadata": {
    "tags": []
   },
   "outputs": [
    {
     "ename": "TypeError",
     "evalue": "'_io.BufferedReader' object is not callable",
     "output_type": "error",
     "traceback": [
      "\u001b[0;31m---------------------------------------------------------------------------\u001b[0m",
      "\u001b[0;31mTypeError\u001b[0m                                 Traceback (most recent call last)",
      "Input \u001b[0;32mIn [45]\u001b[0m, in \u001b[0;36m<cell line: 23>\u001b[0;34m()\u001b[0m\n\u001b[1;32m     13\u001b[0m sinehpp\u001b[38;5;241m=\u001b[39m\u001b[38;5;241m1.\u001b[39m\u001b[38;5;241m/\u001b[39msinefr\n\u001b[1;32m     15\u001b[0m \u001b[38;5;66;03m# sinefr2 = sinelp2.freq\u001b[39;00m\n\u001b[1;32m     16\u001b[0m \u001b[38;5;66;03m# sinepw2 = sinelp2.power\u001b[39;00m\n\u001b[1;32m     17\u001b[0m \u001b[38;5;66;03m# sinehpp2=1./sinefr2\u001b[39;00m\n\u001b[0;32m   (...)\u001b[0m\n\u001b[1;32m     20\u001b[0m \u001b[38;5;66;03m# sinepw3 = sinelp3.power\u001b[39;00m\n\u001b[1;32m     21\u001b[0m \u001b[38;5;66;03m# sinehpp3=1./sinefr3\u001b[39;00m\n\u001b[0;32m---> 23\u001b[0m redo_model\u001b[38;5;241m=\u001b[39m\u001b[38;5;28mfloat\u001b[39m(\u001b[38;5;28;43minput\u001b[39;49m\u001b[43m(\u001b[49m\u001b[38;5;124;43m'\u001b[39;49m\u001b[38;5;124;43mRe-fit models?\u001b[39;49m\u001b[38;5;124;43m'\u001b[39;49m\u001b[43m)\u001b[49m)\n\u001b[1;32m     24\u001b[0m \u001b[38;5;66;03m#==========================================\u001b[39;00m\n\u001b[1;32m     25\u001b[0m \u001b[38;5;66;03m# Fit Solution with Single Sine Wave\u001b[39;00m\n\u001b[1;32m     26\u001b[0m \u001b[38;5;28;01mif\u001b[39;00m redo_model\u001b[38;5;241m==\u001b[39m\u001b[38;5;241m1\u001b[39m:\n",
      "\u001b[0;31mTypeError\u001b[0m: '_io.BufferedReader' object is not callable"
     ]
    }
   ],
   "source": [
    "fr = clp.freq\n",
    "pw = clp.power\n",
    "hpp = 1./fr\n",
    "\n",
    "refindex=find_nearest(hpp,5.28)\n",
    "#Window function:\n",
    "#wfr = wlp.freq\n",
    "#wpw = wlp.power\n",
    "#whpp = 1./wfr\n",
    "\n",
    "sinefr = sinelp.freq\n",
    "sinepw = sinelp.power\n",
    "sinehpp=1./sinefr\n",
    "\n",
    "# sinefr2 = sinelp2.freq\n",
    "# sinepw2 = sinelp2.power\n",
    "# sinehpp2=1./sinefr2\n",
    "#\n",
    "# sinefr3 = sinelp3.freq\n",
    "# sinepw3 = sinelp3.power\n",
    "# sinehpp3=1./sinefr3\n",
    "\n",
    "redo_model=float(input('Re-fit models?'))\n",
    "#==========================================\n",
    "# Fit Solution with Single Sine Wave\n",
    "if redo_model==1:\n",
    "    fii=200\n",
    "    ssr=np.zeros([fii])\n",
    "    best_ssr=99999.\n",
    "    for ii in range(fii):\n",
    "        guess=[rand(1)*5.0,rand(1)*600-300.]\n",
    "        try:\n",
    "            params, cov = curve_fit(powerfuncsingle, hpp, pw, guess,method='lm')\n",
    "        except RuntimeError:\n",
    "            print('Did not converge')\n",
    "\n",
    "        #print('Fitted parameters:',params)\n",
    "        fittedmodel=powerfuncsingle(hpp,params[0],params[1])\n",
    "        ssr[ii]=np.sum(np.power(pw - fittedmodel, 2))\n",
    "        print(ii,\"  SSR:\",ssr[ii], \" Best SSR:\", best_ssr)\n",
    "        if ssr[ii] < best_ssr:\n",
    "            print('Bingo!')\n",
    "            best_ssr=ssr[ii]\n",
    "            best_solution=params\n",
    "\n",
    "    params_singlesine=best_solution\n",
    "    with open(fit_dir+'best-fit-single-sinewave-parameters.pkl', 'wb') as output:\n",
    "        pickle.dump(params_singlesine, output, pickle.HIGHEST_PROTOCOL)\n",
    "else:\n",
    "    with open(fit_dir+'best-fit-single-sinewave-parameters.pkl', 'rb') as input:\n",
    "        params_singlesine = pickle.load(input)\n",
    "\n",
    "fittedmodel_single=powerfuncsingle(hpp,params_singlesine[0],params_singlesine[1])\n",
    "print, \"Best-fit single sine parameters:\", params_singlesine\n"
   ]
  },
  {
   "cell_type": "code",
   "execution_count": null,
   "id": "442c15d5-aab6-48c2-9cef-23604699de0f",
   "metadata": {
    "tags": []
   },
   "outputs": [],
   "source": [
    "#==========================================\n",
    "#PLOTTING\n",
    "xlim=[4.0,6.0]\n",
    "ylim=[0,0.025]\n",
    "fig = plt.figure(figsize=(14,7))\n",
    "matplotlib.rcParams.update({'font.size': 10})\n",
    "\n",
    "plt.subplot(2,1,1)\n",
    "plt.text(4.05,0.15,'Data: Luhman 16B Rotational Period Peak ',horizontalalignment='left',fontsize=15,color='blue')\n",
    "plt.plot(hpp, pw, '-', linewidth=2,color='blue')\n",
    "plt.fill_between(hpp, pw, interpolate=True, color='xkcd:light blue',alpha=0.2)\n",
    "plt.xlabel('Time [h]')\n",
    "plt.ylabel('Power')\n",
    "plt.title('Luhman 16B Rotational Period Periodogram and Models')\n",
    "plt.xlim(xlim)\n",
    "plt.ylim(ylim)\n",
    "\n",
    "plt.subplot(2,1,2)\n",
    "#print('Shift for single sine wave fit:',int(round(refindex+params_singlesine[1])))\n",
    "peak1=hpp[refindex+int(round(params_singlesine[1]))]\n",
    "plt.text(4.05,0.15,'Model: Single sine wave',horizontalalignment='left',fontsize=15,color='green')\n",
    "plt.text(4.05,0.10,'Period: {pk1:.2f} hr.'.format(pk1=peak1),horizontalalignment='left',fontsize=12,color='green')\n",
    "plt.plot(hpp, pw, '--', linewidth=1,color='gray')\n",
    "plt.fill_between(hpp, pw, interpolate=True, color='xkcd:light blue',alpha=0.2)\n",
    "plt.plot(hpp,fittedmodel_single, '-', linewidth=2,color='green')\n",
    "plt.xlabel('Time [h]')\n",
    "plt.ylabel('Power')\n",
    "plt.xlim(xlim)\n",
    "plt.ylim(ylim)"
   ]
  },
  {
   "cell_type": "code",
   "execution_count": null,
   "id": "5c5518bc-7781-4410-b92b-c741f97ccfa6",
   "metadata": {},
   "outputs": [],
   "source": []
  }
 ],
 "metadata": {
  "kernelspec": {
   "display_name": "Python 3 (ipykernel)",
   "language": "python",
   "name": "python3"
  },
  "language_info": {
   "codemirror_mode": {
    "name": "ipython",
    "version": 3
   },
   "file_extension": ".py",
   "mimetype": "text/x-python",
   "name": "python",
   "nbconvert_exporter": "python",
   "pygments_lexer": "ipython3",
   "version": "3.9.12"
  }
 },
 "nbformat": 4,
 "nbformat_minor": 5
}
