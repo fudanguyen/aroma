{
 "cells": [
  {
   "cell_type": "markdown",
   "metadata": {},
   "source": [
    "# Trigonometric fit using hyperopt\n",
    "\n",
    "https://github.com/fmfn/BayesianOptimization<br>\n",
    "https://github.com/hyperopt/hyperopt"
   ]
  },
  {
   "cell_type": "code",
   "execution_count": 2,
   "metadata": {},
   "outputs": [],
   "source": [
    "import numpy as np\n",
    "import sklearn\n",
    "from matplotlib import pyplot as plt \n",
    "from sklearn.metrics import mean_squared_error, r2_score\n",
    "from hyperopt import hp, tpe, Trials, fmin\n",
    "import time"
   ]
  },
  {
   "cell_type": "code",
   "execution_count": 17,
   "metadata": {},
   "outputs": [
    {
     "data": {
      "image/png": "[encoded data removed]",
      "text/plain": [
       "<Figure size 432x288 with 1 Axes>"
      ]
     },
     "metadata": {
      "needs_background": "light"
     },
     "output_type": "display_data"
    }
   ],
   "source": [
    "seed = 12345512\n",
    "np.random.seed(seed)\n",
    "\n",
    "n = 200\n",
    "x_data = np.linspace(-5, 5, num=n)\n",
    "# offset, amp1, omega1, phase1, amp2, omega2, phase2\n",
    "o = [10, 3, 2.7, 1, 5, 3.0, -1.5]\n",
    "y_data = o[0] + o[1] * np.sin(o[2] * x_data + o[3]) + o[4] * np.sin(o[5] * x_data + o[6]) + 1.5 * np.random.normal(size=n)\n",
    "\n",
    "plt.scatter(x_data, y_data, label='observations', color='#678491', s= 5)\n",
    "plt.ylabel('y', fontsize=14)\n",
    "plt.xlabel('X', fontsize=14)\n",
    "plt.title('Original data', fontsize=14);"
   ]
  },
  {
   "cell_type": "code",
   "execution_count": 18,
   "metadata": {},
   "outputs": [],
   "source": [
    "# random split the data into train and test\n",
    "from sklearn.model_selection import train_test_split\n",
    "X_train, X_test, y_train, y_test = train_test_split(x_data, y_data, test_size=0.2, random_state=42)\n"
   ]
  },
  {
   "cell_type": "code",
   "execution_count": 19,
   "metadata": {},
   "outputs": [],
   "source": [
    "def objective(a0, a1, f1, a2, f2):\n",
    "    \"\"\"Objective function to minimize\"\"\"\n",
    "    w1, w2 = o[2], o[5]\n",
    "    return np.mean((a0+ a1 * np.sin(w1*X_train + f1) + a2 * np.sin(w2*X_train + f2) - y_train)**2)\n",
    "\n",
    "def objective2(args):\n",
    "    return objective(*args)"
   ]
  },
  {
   "cell_type": "markdown",
   "metadata": {},
   "source": [
    "## hyperopt"
   ]
  },
  {
   "cell_type": "code",
   "execution_count": 20,
   "metadata": {},
   "outputs": [
    {
     "name": "stdout",
     "output_type": "stream",
     "text": [
      "100%|████| 1000/1000 [00:09<00:00, 101.83trial/s, best loss: 2.1397276505885765]\n",
      "Prescribed frequency\n"
     ]
    },
    {
     "data": {
      "text/latex": [
       "$\\displaystyle \\omega_1=2.70, \\omega_2=3.00$"
      ],
      "text/plain": [
       "<IPython.core.display.Math object>"
      ]
     },
     "metadata": {},
     "output_type": "display_data"
    },
    {
     "name": "stdout",
     "output_type": "stream",
     "text": [
      "Fitted parameters:\n"
     ]
    },
    {
     "data": {
      "text/latex": [
       "$\\displaystyle a_0=9.91, a_1=2.53, \\phi_1=1.08, a_2=4.78, , \\phi_2=-1.44$"
      ],
      "text/plain": [
       "<IPython.core.display.Math object>"
      ]
     },
     "metadata": {},
     "output_type": "display_data"
    },
    {
     "name": "stdout",
     "output_type": "stream",
     "text": [
      "Original parameters:\n"
     ]
    },
    {
     "data": {
      "text/latex": [
       "$\\displaystyle a_0=10.00, a_1=3.00, \\phi_1=1.00, a_2=5.00, \\phi_2=-1.50$"
      ],
      "text/plain": [
       "<IPython.core.display.Math object>"
      ]
     },
     "metadata": {},
     "output_type": "display_data"
    }
   ],
   "source": [
    "from hyperopt import hp, tpe, Trials, fmin\n",
    "from IPython.display import display, Math\n",
    "\n",
    "space = [hp.uniform('a0', 5, 15),\n",
    "         hp.uniform('a1', 0, 10), \n",
    "         hp.uniform('f1', -np.pi, np.pi),\n",
    "         hp.uniform('a2', 0, 10), \n",
    "         hp.uniform('f2', -np.pi, np.pi)]\n",
    "\n",
    "tpe_algo = tpe.suggest\n",
    "tpe_trials = Trials()\n",
    "\n",
    "tpe_best = fmin(fn=objective2, space=space, algo=tpe_algo, trials=tpe_trials, max_evals=1000, rstate=np.random.default_rng(seed))\n",
    "w1, w2 = o[2], o[5]\n",
    "\n",
    "print('Prescribed frequency')\n",
    "display(Math('\\\\omega_1={:.2f}, \\\\omega_2={:.2f}'.format(*[o[2], o[5]])))\n",
    "\n",
    "print('Fitted parameters:')\n",
    "display(Math('a_0={a0:.2f}, a_1={a1:.2f}, \\\\phi_1={f1:.2f}, a_2={a2:.2f}, , \\\\phi_2={f2:.2f}'.format(**tpe_best)))\n",
    "print('Original parameters:')\n",
    "display(Math('a_0={:.2f}, a_1={:.2f}, \\\\phi_1={:.2f}, a_2={:.2f}, \\\\phi_2={:.2f}'.format(*[o[0], o[1], o[3], o[4], o[6]])))"
   ]
  },
  {
   "cell_type": "code",
   "execution_count": 21,
   "metadata": {},
   "outputs": [
    {
     "name": "stdout",
     "output_type": "stream",
     "text": [
      "mse: 2.5302827770907763\n",
      "r2: 0.755439178193748\n"
     ]
    }
   ],
   "source": [
    "# Test\n",
    "from sklearn.metrics import mean_squared_error, r2_score\n",
    "\n",
    "ypred = tpe_best['a0']+ tpe_best['a1'] * np.sin(o[2] * X_test + tpe_best['f1']) +tpe_best['a2'] * np.sin(o[5] * X_test + tpe_best['f2'])\n",
    "\n",
    "rmse = mean_squared_error(y_test,ypred)\n",
    "r2 = r2_score(y_test,ypred)\n",
    "print('mse:', rmse)\n",
    "print('r2:',r2)"
   ]
  },
  {
   "cell_type": "code",
   "execution_count": 22,
   "metadata": {},
   "outputs": [
    {
     "data": {
      "text/plain": [
       "<matplotlib.legend.Legend at 0x7f9e8057ddf0>"
      ]
     },
     "execution_count": 22,
     "metadata": {},
     "output_type": "execute_result"
    },
    {
     "data": {
      "image/png": "[encoded data removed]",
      "text/plain": [
       "<Figure size 432x288 with 1 Axes>"
      ]
     },
     "metadata": {
      "needs_background": "light"
     },
     "output_type": "display_data"
    }
   ],
   "source": [
    "y = tpe_best['a0'] + tpe_best['a1'] * np.sin(w1* x_data + tpe_best['f1']) + tpe_best['a2'] * np.sin(w2 * x_data + tpe_best['f2'])\n",
    "\n",
    "fig, ax = plt.subplots()\n",
    "ax.scatter(x_data, y_data, label= 'observations', color= '#678491', s=10)\n",
    "ax.plot(x_data, y, label= 'Fit with hyperopt', color='#EA1B1D')\n",
    "ax.set_ylabel('y', fontsize= 14)\n",
    "ax.set_xlabel('X', fontsize= 14)\n",
    "plt.legend(loc='lower right')\n",
    "#ax.set_title('Fit using hyperopt', fontsize= 14)\n",
    "# plt.savefig('../images/hyperopt.png', bbox_inches=\"tight\")"
   ]
  }
 ],
 "metadata": {
  "kernelspec": {
   "display_name": "Python 3 (ipykernel)",
   "language": "python",
   "name": "python3"
  },
  "language_info": {
   "codemirror_mode": {
    "name": "ipython",
    "version": 3
   },
   "file_extension": ".py",
   "mimetype": "text/x-python",
   "name": "python",
   "nbconvert_exporter": "python",
   "pygments_lexer": "ipython3",
   "version": "3.9.7"
  }
 },
 "nbformat": 4,
 "nbformat_minor": 4
}
